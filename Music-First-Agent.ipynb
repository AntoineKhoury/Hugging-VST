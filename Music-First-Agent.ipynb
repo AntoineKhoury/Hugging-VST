{
 "cells": [
  {
   "cell_type": "code",
   "execution_count": 5,
   "metadata": {},
   "outputs": [
    {
     "name": "stdout",
     "output_type": "stream",
     "text": [
      "Connection opened\n",
      "{\"msg\":\"send_hash\"}\n",
      "{\"msg\":\"estimation\",\"rank\":0,\"queue_size\":1,\"avg_event_process_time\":30.26373993806849,\"avg_event_concurrent_process_time\":30.26373993806849,\"rank_eta\":30.26373993806849,\"queue_eta\":0.0}\n",
      "{\"msg\":\"send_data\"}\n",
      "{\"data\": [\"Music\", null], \"event_data\": null, \"fn_index\": 0, \"session_hash\": \"5qsq95343ej\"}\n",
      "{\"msg\":\"process_starts\"}\n",
      "{\"msg\":\"process_completed\",\"output\":{\"data\":[[{\"name\":\"/tmp/gradio/f447b09654f1a241e4a26a0e167fedaf0d397b21/tmpe3jd9a5t.mp4\",\"data\":null,\"is_file\":true,\"orig_name\":\"tmpe3jd9a5t.mp4\"},null]],\"is_generating\":null,\"duration\":27.562491178512573,\"average_duration\":29.12744251065742},\"success\":true}\n",
      "https://facebook-musicgen.hf.space/file=/tmp/gradio/f447b09654f1a241e4a26a0e167fedaf0d397b21/tmpe3jd9a5t.mp4\n",
      "File downloaded successfully!\n",
      "Connection closed\n"
     ]
    },
    {
     "data": {
      "text/plain": "False"
     },
     "execution_count": 5,
     "metadata": {},
     "output_type": "execute_result"
    }
   ],
   "source": [
    "import websocket\n",
    "import json\n",
    "import logging\n",
    "import requests\n",
    "#logging.basicConfig(level=logging.DEBUG)\n",
    "\n",
    "# Define the on_message function to handle incoming messages\n",
    "def on_message(ws, message):\n",
    "    print(message)\n",
    "    \n",
    "    \n",
    "    # Parse the received message as JSON\n",
    "    msg_data = json.loads(message)\n",
    "    \n",
    "    # Check the content and respond accordingly\n",
    "    if msg_data.get(\"msg\") == \"send_hash\":\n",
    "        response = {\n",
    "            \"fn_index\": 0,\n",
    "            \"session_hash\": \"5qsq95343ej\"\n",
    "        }\n",
    "        ws.send(json.dumps(response))\n",
    "    \n",
    "    elif msg_data.get(\"msg\") == \"send_data\":\n",
    "        response = {\n",
    "            \"data\": [\"Music\", None],\n",
    "            \"event_data\": None,\n",
    "            \"fn_index\": 0,\n",
    "            \"session_hash\": \"5qsq95343ej\"\n",
    "        }\n",
    "        print(json.dumps(response))\n",
    "        ws.send(json.dumps(response))\n",
    "\n",
    "    # Check if the message is of type \"process_completed\"\n",
    "    elif msg_data.get(\"msg\") == \"process_completed\":\n",
    "        # Extract the file path\n",
    "        file_path = msg_data[\"output\"][\"data\"][0][0][\"name\"]\n",
    "        \n",
    "        # Construct the download URL\n",
    "        download_url = f\"https://facebook-musicgen.hf.space/file={file_path}\"\n",
    "        print(download_url)\n",
    "        \n",
    "        # Download the file\n",
    "        response = requests.get(download_url)\n",
    "        if response.status_code == 200:\n",
    "            with open('output.mp4', 'wb') as file:\n",
    "                file.write(response.content)\n",
    "            print(\"File downloaded successfully!\")\n",
    "        else:\n",
    "            print(f\"Failed to download the file. Status code: {response.status_code}\")\n",
    "\n",
    "    \n",
    "\n",
    "# Define the on_error function to handle any errors\n",
    "def on_error(ws, error):\n",
    "    print(f\"Error: {error}\")\n",
    "\n",
    "# Define the on_close function to handle when the connection is closed\n",
    "def on_close(ws, close_status_code, close_msg):\n",
    "    print(\"Connection closed\")\n",
    "\n",
    "# Define the on_open function to handle when the connection is opened\n",
    "def on_open(ws):\n",
    "    print(\"Connection opened\")\n",
    "    \n",
    "    # If there's specific data or commands you need to send to the server upon connecting, \n",
    "    # you would do it here. For example:\n",
    "    # ws.send('{\"action\": \"start_inference\", \"model\": \"facebook-musicgen\"}')\n",
    "\n",
    "# Create the WebSocket connection\n",
    "ws = websocket.WebSocketApp(\"wss://facebook-musicgen.hf.space/queue/join\",\n",
    "                            on_message=on_message,\n",
    "                            on_error=on_error,\n",
    "                            on_close=on_close)\n",
    "ws.on_open = on_open\n",
    "ws.run_forever()"
   ]
  }
 ],
 "metadata": {
  "kernelspec": {
   "display_name": "Python 3.8.0 64-bit ('data_science': pyenv)",
   "language": "python",
   "name": "python380jvsc74a57bd0ef99536c53da3c15ed2524f560df34af70157031791dc43f5770c656da0de119"
  },
  "language_info": {
   "codemirror_mode": {
    "name": "ipython",
    "version": 3
   },
   "file_extension": ".py",
   "mimetype": "text/x-python",
   "name": "python",
   "nbconvert_exporter": "python",
   "pygments_lexer": "ipython3",
   "version": "3.8.0"
  },
  "metadata": {
   "interpreter": {
    "hash": "1bb43c15dc0f07ffaa3c7fd15ce834c2417f391e64405f9c6d8d0d6905d9e91e"
   }
  },
  "orig_nbformat": 2
 },
 "nbformat": 4,
 "nbformat_minor": 2
}